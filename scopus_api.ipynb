{
 "cells": [
  {
   "cell_type": "markdown",
   "metadata": {},
   "source": [
    "## Examples of retrieving data from Scopus using Scopus API and Elsapy  \n",
    "Elsapy: https://github.com/ElsevierDev/elsapy (Requres Python 3.x)  \n",
    "Elsevier Scopus APIs https://dev.elsevier.com/sc_apis.html"
   ]
  },
  {
   "cell_type": "code",
   "execution_count": 1,
   "metadata": {},
   "outputs": [],
   "source": [
    "from elsapy.elsclient import ElsClient\n",
    "from elsapy.elssearch import ElsSearch\n",
    "from elsapy.elsprofile import ElsAuthor\n",
    "from elsapy.elsdoc import AbsDoc\n",
    "\n",
    "import json"
   ]
  },
  {
   "cell_type": "markdown",
   "metadata": {},
   "source": [
    "### 1. Define some functions that we will use later"
   ]
  },
  {
   "cell_type": "code",
   "execution_count": 2,
   "metadata": {},
   "outputs": [],
   "source": [
    "def affiliation_id_serch(schoolname, client):\n",
    "    \"\"\"Search affiliation ID by name\n",
    "    client - object of the ElsClient class  \"\"\"\n",
    "    \n",
    "    school_srch = ElsSearch(' AFFIL(%s)'%schoolname,'affiliation')\n",
    "    school_srch.execute(client)\n",
    "    return school_srch.results\n",
    "\n",
    "def search_auth_by_name(fstname, lstname, schoolid, client):\n",
    "    \"\"\"Find author's Scopus ID by first, last name and affiliation ID.\n",
    "    In case of an error, perform search without affiliation ID and return first author in the serach result\n",
    "    \"\"\"\n",
    "    auth_srch = ElsSearch('AUTHLASTNAME(%s)'%lstname + ' AUTHFIRST(%s)'%fstname + ' AF-ID(%s)'%schoolid,'author')\n",
    "    auth_srch.execute(client)\n",
    "\n",
    "    #print (\"auth_srch has\", len(auth_srch.results), \"results.\")\n",
    "    authorfound = auth_srch.results[0]\n",
    "    \n",
    "    if 'error' in authorfound.keys():\n",
    "        status = 'error'\n",
    "        auth_srch = ElsSearch('AUTHLASTNAME(%s)'%lstname + ' AUTHFIRST(%s)'%fstname ,'author')\n",
    "        auth_srch.execute(client)\n",
    "\n",
    "        #print (\"auth_srch has\", len(auth_srch.results), \"results.\")\n",
    "        authorfound = auth_srch.results[0]\n",
    "        if 'error' in authorfound.keys():\n",
    "            status = 'error'\n",
    "            return status, {}\n",
    "        if 'affiliation-current' in authorfound.keys():\n",
    "            if authorfound['affiliation-current']['affiliation-id']!=schoolid:\n",
    "                status = 'new-affil'\n",
    "            else:\n",
    "                status = 'success'\n",
    "        else:\n",
    "            print(fstname, lstname, ' --- can not find affiliation-current in keys')\n",
    "            status = 'warning'\n",
    "    else:\n",
    "        status = 'success'\n",
    "    \n",
    "    return status, authorfound\n",
    "\n",
    "def auth_metrics(auth_id, client):\n",
    "    \"\"\"Read author metrics for a given Scopus author ID auth_id\n",
    "    client - object of the ElsClient class \n",
    "    reurns status, author data, total number of paers, citations and h-index \"\"\"\n",
    "    \n",
    "    my_auth = ElsAuthor(uri = 'https://api.elsevier.com/content/author/author_id/'+auth_id) \n",
    "\n",
    "    if my_auth.read(client):\n",
    "        status = 'success'\n",
    "    else:\n",
    "        status = 'error'\n",
    "        return status, None, None, None, None\n",
    "    \n",
    "    my_auth.read_metrics(client)\n",
    "\n",
    "    if my_auth._data==None:\n",
    "        npapers, ncitation, hindex = None, None, None\n",
    "        status = 'error'\n",
    "    else:\n",
    "        status = 'success'\n",
    "        \n",
    "        npapers = my_auth._data['coredata']['document-count']\n",
    "        ncitation = my_auth._data['coredata']['citation-count']\n",
    "        hindex = my_auth._data['h-index']\n",
    "        \n",
    "    return status,my_auth._data, npapers, ncitation, hindex\n",
    "\n",
    "def author_pubs(author_id, client):\n",
    "    \"\"\"\n",
    "    Obtain publication list for a given Scopus author ID author_id\n",
    "    client - object of the ElsClient class\n",
    "    returns publication list and full output of the ElsSearch search request\n",
    "    \"\"\"\n",
    "    doc_srch = ElsSearch('AU-ID(%s)'%author_id,'scopus')\n",
    "    doc_srch.execute(client, get_all = True)\n",
    "\n",
    "  \n",
    "    pubs = []\n",
    "    for rslt in doc_srch.results:\n",
    "               \n",
    "        year = rslt['prism:coverDate'].split('-')[0]\n",
    "        citedby = rslt['citedby-count']\n",
    "        scopusid = rslt['dc:identifier'].split(':')[1]\n",
    "        title = rslt['dc:title']\n",
    "        jrnlname = rslt['prism:publicationName']\n",
    "        pubs.append({'year':year, 'cited':citedby, 'scopusid': scopusid, 'title': title, 'journal': jrnlname})\n",
    " \n",
    "    return pubs, doc_srch.results\n"
   ]
  },
  {
   "cell_type": "markdown",
   "metadata": {},
   "source": [
    "## 2. Initialize client (object of the ElsClient class) with your apikey"
   ]
  },
  {
   "cell_type": "code",
   "execution_count": 3,
   "metadata": {},
   "outputs": [],
   "source": [
    "apikey = '' # insert a valid apikey\n",
    "\n",
    "## Initialize client\n",
    "client = ElsClient(apikey)\n",
    "client.inst_token = '' # leave it blank unless you have it"
   ]
  },
  {
   "cell_type": "markdown",
   "metadata": {},
   "source": [
    "## 3. Find a unique Scopus affiliation ID for a school of interest"
   ]
  },
  {
   "cell_type": "code",
   "execution_count": 4,
   "metadata": {},
   "outputs": [
    {
     "name": "stdout",
     "output_type": "stream",
     "text": [
      "Found  25  schools \n",
      "\n",
      "Affiliation ID  | Afiiliation Name\n",
      "----------------------------------------\n",
      "60021508         University of Notre Dame\n",
      "60006635         University of Namur\n",
      "60021478         Hospital Notre-Dame\n",
      "60031487         University of Notre Dame Australia\n",
      "60068771         Notre Dame University, Lebanon\n",
      "60030780         Saint Marys College\n",
      "60007259         Notre Dame Radiation Laboratory\n",
      "60003038         Notre Dame of Maryland University\n",
      "60070471         Hopital Notre Dame de Bon Secours - Centre Hospitalier Regional Metz Thionville\n",
      "60028660         Indiana University School of Medicine South Bend\n",
      "60026879         Hopital Notre Dame de Bonne Secours\n",
      "60070491         Clinique Notre-Dame\n",
      "106591450        Notre Dame Law School\n",
      "60030396         Nortre Dame Seishin University\n",
      "60086792         Notre Dame De Namur University\n",
      "112637669        Notre Dame Law School\n",
      "100331706        University of Notre Dame\n",
      "60082327         Rural Clinical School of Western Australia\n",
      "60070058         Clinique Notre-Dame de Grace\n",
      "100367671        University of Notre Dame\n",
      "110816746        Notre Dame University\n",
      "100856765        Notre Dame University\n",
      "100461646        University of Notre Dame\n",
      "106762284        Notre Dame University\n",
      "60004104         University of Notre Dame Law School\n"
     ]
    }
   ],
   "source": [
    "school_srch_results = affiliation_id_serch('Notre Dame', client)\n",
    "\n",
    "print('Found ', len(school_srch_results), ' schools \\n')\n",
    "\n",
    "print('{:<15} {:>}'.format('Affiliation ID', '| Afiiliation Name'))\n",
    "print('-'*40)\n",
    "\n",
    "for school in school_srch_results:\n",
    "    school_id =  school['dc:identifier'].split(':')[1]\n",
    "    school_name = school['affiliation-name']\n",
    "    print( '{:<15}  {:>}'.format(school_id, school_name))\n"
   ]
  },
  {
   "cell_type": "markdown",
   "metadata": {},
   "source": [
    "##### Search resulted in 25 different affiliations. First one is the one we want"
   ]
  },
  {
   "cell_type": "code",
   "execution_count": 5,
   "metadata": {},
   "outputs": [],
   "source": [
    "school = school_srch_results[0]\n",
    "\n",
    "#keep Scopus ID in the school_id variable\n",
    "school_id = school['dc:identifier'].split(':')[1]\n",
    "school_name = school['affiliation-name']\n"
   ]
  },
  {
   "cell_type": "markdown",
   "metadata": {},
   "source": [
    "Here is other information we already know about this school from the search result"
   ]
  },
  {
   "cell_type": "code",
   "execution_count": 6,
   "metadata": {},
   "outputs": [
    {
     "data": {
      "text/plain": [
       "{'@_fa': 'true',\n",
       " 'link': [{'@_fa': 'true',\n",
       "   '@ref': 'self',\n",
       "   '@href': 'https://api.elsevier.com/content/affiliation/affiliation_id/60021508'},\n",
       "  {'@_fa': 'true',\n",
       "   '@ref': 'search',\n",
       "   '@href': 'https://api.elsevier.com/content/search/scopus?query=af-id%2860021508%29'},\n",
       "  {'@_fa': 'true',\n",
       "   '@ref': 'scopus-affiliation',\n",
       "   '@href': 'https://www.scopus.com/affil/profile.uri?afid=60021508&partnerID=HzOxMe3b&origin=inward'}],\n",
       " 'prism:url': 'https://api.elsevier.com/content/affiliation/affiliation_id/60021508',\n",
       " 'dc:identifier': 'AFFILIATION_ID:60021508',\n",
       " 'eid': '10-s2.0-60021508',\n",
       " 'affiliation-name': 'University of Notre Dame',\n",
       " 'name-variant': [{'@_fa': 'true', '$': 'University Of Notre Dame'}],\n",
       " 'document-count': '48797',\n",
       " 'city': 'Notre Dame',\n",
       " 'country': 'United States',\n",
       " 'parent-affiliation-id': '0'}"
      ]
     },
     "execution_count": 6,
     "metadata": {},
     "output_type": "execute_result"
    }
   ],
   "source": [
    "school"
   ]
  },
  {
   "cell_type": "markdown",
   "metadata": {},
   "source": [
    "## 4. Find author by last and first name and obtain his unique Scopus ID"
   ]
  },
  {
   "cell_type": "code",
   "execution_count": 7,
   "metadata": {},
   "outputs": [
    {
     "name": "stdout",
     "output_type": "stream",
     "text": [
      "Found  5  authors \n",
      "\n",
      "First name | Last name | Scopus ID |  Affil ID        | Affil name\n",
      "--------------------------------------------------------------------------------\n",
      "Yu A.        Morozov     7103409464     60104831       Kotel'nikov Institute of Radio Engineering and Electronics of Russian Academy of Sciences, Saratov Branch\n",
      "Yu V.        Morozov     7103409393     60026473       Engelhardt Institute of Molecular Biology, Russian Academy of Sciences\n",
      "Yu N.        Morozov     7103409423     60007457       Lomonosov Moscow State University\n",
      "Yurii V.     Morozov     55966498300    60021508       University of Notre Dame\n",
      "Yurii V.     Morozov     55963254500    60033394       Novosibirsk State Technical University\n"
     ]
    }
   ],
   "source": [
    "first_name = 'Yurii'\n",
    "last_name = 'Morozov'\n",
    "\n",
    "auth_srch = ElsSearch('AUTHLASTNAME(%s)'%last_name + ' AUTHFIRST(%s)'%first_name,'author')\n",
    "auth_srch.execute(client)\n",
    "\n",
    "print (\"Found \", len(auth_srch.results), \" authors \\n\")\n",
    "authorfound = auth_srch.results[0]\n",
    "\n",
    "print('{:<6} {:<6} {:<12} {:<15} {:>}'.format('First name |', 'Last name |', 'Scopus ID |', 'Affil ID', '| Affil name'))\n",
    "print('-'*80)\n",
    "for author in auth_srch.results:\n",
    "    #let's look on every author and print the name and affiliaiton stored in Scopus  \n",
    "    author_id = author['dc:identifier'].split(':')[1]\n",
    "    first_name_scopus = author['preferred-name']['given-name']\n",
    "    last_name_scopus = author['preferred-name']['surname']\n",
    "    affil_name = author['affiliation-current']['affiliation-name']\n",
    "    affil_id = author['affiliation-current']['affiliation-id']\n",
    "    \n",
    "    print('{:<12} {:<11} {:<14} {:<14} {:>}'.format(first_name_scopus, last_name_scopus, author_id, affil_id, affil_name))\n"
   ]
  },
  {
   "cell_type": "markdown",
   "metadata": {},
   "source": [
    "#### We are looking for author number 4 in the above list. \n",
    "#### We can select him manually or specify a shool name or school affiliation ID in the search query"
   ]
  },
  {
   "cell_type": "code",
   "execution_count": 8,
   "metadata": {},
   "outputs": [
    {
     "name": "stdout",
     "output_type": "stream",
     "text": [
      "Found  1  authors \n",
      "Yurii V.     Morozov     55966498300    60021508       University of Notre Dame\n"
     ]
    }
   ],
   "source": [
    "last_name = 'Morozov'\n",
    "first_name = 'Yurii'\n",
    "school_id = '60021508'\n",
    "\n",
    "auth_srch = ElsSearch('AUTHLASTNAME(%s)'%last_name + ' AUTHFIRST(%s)'%first_name + ' AF-ID(%s)'%school_id, 'author')\n",
    "auth_srch.execute(client)\n",
    "\n",
    "print (\"Found \", len(auth_srch.results), \" authors \")\n",
    "authorfound = auth_srch.results[0]\n",
    "\n",
    "for author in auth_srch.results:\n",
    "    #let's look on every author and print the name and affiliaiton stored in Scopus  \n",
    "    author_id = author['dc:identifier'].split(':')[1]\n",
    "    first_name_scopus = author['preferred-name']['given-name']\n",
    "    last_name_scopus = author['preferred-name']['surname']\n",
    "    affil_name = author['affiliation-current']['affiliation-name']\n",
    "    affil_id = author['affiliation-current']['affiliation-id']\n",
    "    \n",
    "    print('{:<12} {:<11} {:<14} {:<14} {:>}'.format(first_name_scopus, last_name_scopus, author_id, affil_id, affil_name))"
   ]
  },
  {
   "cell_type": "markdown",
   "metadata": {},
   "source": [
    "This looks better.  \n",
    "Keep in mind however, that if author's current affiliation ID is different from the one specified in the request, search will result in error. "
   ]
  },
  {
   "cell_type": "markdown",
   "metadata": {},
   "source": [
    "#### Lets look what other information about the author we already know"
   ]
  },
  {
   "cell_type": "code",
   "execution_count": 9,
   "metadata": {},
   "outputs": [
    {
     "data": {
      "text/plain": [
       "{'@_fa': 'true',\n",
       " 'link': [{'@_fa': 'true',\n",
       "   '@ref': 'self',\n",
       "   '@href': 'https://api.elsevier.com/content/author/author_id/55966498300'},\n",
       "  {'@_fa': 'true',\n",
       "   '@ref': 'search',\n",
       "   '@href': 'https://api.elsevier.com/content/search/author?query=au-id%2855966498300%29'},\n",
       "  {'@_fa': 'true',\n",
       "   '@ref': 'scopus-citedby',\n",
       "   '@href': 'https://www.scopus.com/author/citedby.uri?partnerID=HzOxMe3b&citedAuthorId=55966498300&origin=inward'},\n",
       "  {'@_fa': 'true',\n",
       "   '@ref': 'scopus-author',\n",
       "   '@href': 'https://www.scopus.com/authid/detail.uri?partnerID=HzOxMe3b&authorId=55966498300&origin=inward'}],\n",
       " 'prism:url': 'https://api.elsevier.com/content/author/author_id/55966498300',\n",
       " 'dc:identifier': 'AUTHOR_ID:55966498300',\n",
       " 'eid': '9-s2.0-55966498300',\n",
       " 'preferred-name': {'surname': 'Morozov',\n",
       "  'given-name': 'Yurii V.',\n",
       "  'initials': 'Y.V.'},\n",
       " 'name-variant': [{'@_fa': 'true',\n",
       "   'surname': 'Morozov',\n",
       "   'given-name': 'Yurii',\n",
       "   'initials': 'Y.'}],\n",
       " 'document-count': '12',\n",
       " 'subject-area': [{'@abbrev': 'ENER', '@frequency': '9', '$': 'Energy (all)'},\n",
       "  {'@abbrev': 'MATE', '@frequency': '8', '$': 'Materials Science (all)'},\n",
       "  {'@abbrev': 'CHEM', '@frequency': '8', '$': 'Chemistry (all)'}],\n",
       " 'affiliation-current': {'affiliation-url': 'https://api.elsevier.com/content/affiliation/affiliation_id/60021508',\n",
       "  'affiliation-id': '60021508',\n",
       "  'affiliation-name': 'University of Notre Dame',\n",
       "  'affiliation-city': 'Notre Dame',\n",
       "  'affiliation-country': 'United States'}}"
      ]
     },
     "execution_count": 9,
     "metadata": {},
     "output_type": "execute_result"
    }
   ],
   "source": [
    "author"
   ]
  },
  {
   "cell_type": "markdown",
   "metadata": {},
   "source": [
    "#### As you can see, search result dictionary contains number of publications for a given author accesible via 'document-count' key\n"
   ]
  },
  {
   "cell_type": "code",
   "execution_count": 10,
   "metadata": {},
   "outputs": [
    {
     "name": "stdout",
     "output_type": "stream",
     "text": [
      "Author Yurii V. Morozov has 12  publications\n",
      "Scopus ID: 55966498300\n"
     ]
    }
   ],
   "source": [
    "print(\"Author\", author['preferred-name']['given-name'], author['preferred-name']['surname'], \"has\", author['document-count'], \" publications\")\n",
    "print(\"Scopus ID:\", author['dc:identifier'].split(':')[1])"
   ]
  },
  {
   "cell_type": "code",
   "execution_count": 11,
   "metadata": {},
   "outputs": [
    {
     "data": {
      "text/plain": [
       "('success',\n",
       " {'@_fa': 'true',\n",
       "  'link': [{'@_fa': 'true',\n",
       "    '@ref': 'self',\n",
       "    '@href': 'https://api.elsevier.com/content/author/author_id/55966498300'},\n",
       "   {'@_fa': 'true',\n",
       "    '@ref': 'search',\n",
       "    '@href': 'https://api.elsevier.com/content/search/author?query=au-id%2855966498300%29'},\n",
       "   {'@_fa': 'true',\n",
       "    '@ref': 'scopus-citedby',\n",
       "    '@href': 'https://www.scopus.com/author/citedby.uri?partnerID=HzOxMe3b&citedAuthorId=55966498300&origin=inward'},\n",
       "   {'@_fa': 'true',\n",
       "    '@ref': 'scopus-author',\n",
       "    '@href': 'https://www.scopus.com/authid/detail.uri?partnerID=HzOxMe3b&authorId=55966498300&origin=inward'}],\n",
       "  'prism:url': 'https://api.elsevier.com/content/author/author_id/55966498300',\n",
       "  'dc:identifier': 'AUTHOR_ID:55966498300',\n",
       "  'eid': '9-s2.0-55966498300',\n",
       "  'preferred-name': {'surname': 'Morozov',\n",
       "   'given-name': 'Yurii V.',\n",
       "   'initials': 'Y.V.'},\n",
       "  'name-variant': [{'@_fa': 'true',\n",
       "    'surname': 'Morozov',\n",
       "    'given-name': 'Yurii',\n",
       "    'initials': 'Y.'}],\n",
       "  'document-count': '12',\n",
       "  'subject-area': [{'@abbrev': 'ENER', '@frequency': '9', '$': 'Energy (all)'},\n",
       "   {'@abbrev': 'MATE', '@frequency': '8', '$': 'Materials Science (all)'},\n",
       "   {'@abbrev': 'CHEM', '@frequency': '8', '$': 'Chemistry (all)'}],\n",
       "  'affiliation-current': {'affiliation-url': 'https://api.elsevier.com/content/affiliation/affiliation_id/60021508',\n",
       "   'affiliation-id': '60021508',\n",
       "   'affiliation-name': 'University of Notre Dame',\n",
       "   'affiliation-city': 'Notre Dame',\n",
       "   'affiliation-country': 'United States'}})"
      ]
     },
     "execution_count": 11,
     "metadata": {},
     "output_type": "execute_result"
    }
   ],
   "source": [
    "first_name = 'Yurii'\n",
    "last_name = 'Morozov'\n",
    "school_id = '60021508'\n",
    "\n",
    "search_auth_by_name(first_name, last_name, school_id, client)"
   ]
  },
  {
   "cell_type": "markdown",
   "metadata": {},
   "source": [
    "#### In the following example we will try to find author's Scopus ID using his last and first names and affiliation ID. \n",
    "#### And in case of an error, perform a search only with first and last name. Use *search_auth_by_name()* function defined in the beginning."
   ]
  },
  {
   "cell_type": "code",
   "execution_count": 12,
   "metadata": {},
   "outputs": [
    {
     "name": "stdout",
     "output_type": "stream",
     "text": [
      "provided affiliation ID  60021508\n",
      "Search status = new-affil\n",
      "Current affiliation =  Ohio State University 60003500\n",
      "Author Zachary D. Schultz has 63  publications\n",
      "Scopus ID: 6506722050\n"
     ]
    }
   ],
   "source": [
    "fstname = 'Zachary'\n",
    "lstname = 'Schultz'\n",
    "school_id = '60021508'\n",
    "\n",
    "status, author  = search_auth_by_name(fstname, lstname, school_id, client)\n",
    "\n",
    "print('provided affiliation ID ', school_id)\n",
    "print('Search status =', status)\n",
    "print('Current affiliation = ', author['affiliation-current']['affiliation-name'], author['affiliation-current']['affiliation-id'])\n",
    "\n",
    "print(\"Author\",author['preferred-name']['given-name'], author['preferred-name']['surname'], \"has\", author['document-count'], \" publications\")\n",
    "print(\"Scopus ID:\", author['dc:identifier'].split(':')[1])"
   ]
  },
  {
   "cell_type": "markdown",
   "metadata": {},
   "source": [
    "Satus 'new-affil' means that author was not found with provided affiliation id"
   ]
  },
  {
   "cell_type": "markdown",
   "metadata": {},
   "source": [
    "## 5. Obtain number of publications, citation count, and h-index for a given author "
   ]
  },
  {
   "cell_type": "code",
   "execution_count": 13,
   "metadata": {},
   "outputs": [
    {
     "name": "stdout",
     "output_type": "stream",
     "text": [
      "Yurii V. Morozov\n",
      "Number of publications 12. Citations 151.  h-index 5.\n"
     ]
    }
   ],
   "source": [
    "author_scopus_id = '55966498300'\n",
    "status, search_result, npubs, ncits, hindex = auth_metrics(author_scopus_id, client)\n",
    "\n",
    "print(search_result['author-profile']['preferred-name']['given-name'], search_result['author-profile']['preferred-name']['surname'])\n",
    "print(\"Number of publications %i.\"%npubs, \"Citations %i.\"%ncits, \" h-index %i.\"%hindex)"
   ]
  },
  {
   "cell_type": "markdown",
   "metadata": {},
   "source": [
    "##### As previously dictionary search_result contains more information about the author such as affiliation history, name variants, journals author has publications, etc.  \n",
    "##### Below is the list of dicitonary keys"
   ]
  },
  {
   "cell_type": "code",
   "execution_count": 14,
   "metadata": {},
   "outputs": [
    {
     "data": {
      "text/plain": [
       "dict_keys(['@status', '@_fa', 'coredata', 'affiliation-current', 'affiliation-history', 'subject-areas', 'author-profile', 'h-index'])"
      ]
     },
     "execution_count": 14,
     "metadata": {},
     "output_type": "execute_result"
    }
   ],
   "source": [
    "search_result.keys()"
   ]
  },
  {
   "cell_type": "markdown",
   "metadata": {},
   "source": [
    "##### Among others, I found useful 'publication-range' in 'author-profile' providing interval of years when current author published papers"
   ]
  },
  {
   "cell_type": "code",
   "execution_count": 15,
   "metadata": {},
   "outputs": [
    {
     "data": {
      "text/plain": [
       "{'@end': '2018', '@start': '2013'}"
      ]
     },
     "execution_count": 15,
     "metadata": {},
     "output_type": "execute_result"
    }
   ],
   "source": [
    "search_result['author-profile']['publication-range']"
   ]
  },
  {
   "cell_type": "markdown",
   "metadata": {},
   "source": [
    "## 6. Obtain list of publications for a given author using author's Scopus ID"
   ]
  },
  {
   "cell_type": "code",
   "execution_count": 16,
   "metadata": {},
   "outputs": [],
   "source": [
    "author_scopus_id = '55966498300'\n",
    "publications, full_result = author_pubs(author_scopus_id, client)\n"
   ]
  },
  {
   "cell_type": "markdown",
   "metadata": {},
   "source": [
    "Variable *publications* is a list of papers, where for every paper corresponding dictionary contains publiaction year ('year'),  \n",
    "number of citation ('cited'), scopus ID of this document ('scopusid'), title ('title') and journal where the paper was published ('journal')"
   ]
  },
  {
   "cell_type": "code",
   "execution_count": 17,
   "metadata": {},
   "outputs": [
    {
     "name": "stdout",
     "output_type": "stream",
     "text": [
      "\n",
      "2018 A quantitative and spatially resolved analysis of the performance-bottleneck in high efficiency, planar hybrid perovskite solar cells\n",
      "cited  2 times  scopus ID: 85045952698\n",
      "published in: Energy and Environmental Science\n",
      "\n",
      "2017 Rationalizing the light-induced phase separation of mixed halide organic-inorganic perovskites\n",
      "cited  17 times  scopus ID: 85026885306\n",
      "published in: Nature Communications\n",
      "\n",
      "2017 Photoluminescence Up-Conversion in CsPbBr<inf>3</inf>Nanocrystals\n",
      "cited  2 times  scopus ID: 85031306570\n",
      "published in: ACS Energy Letters\n",
      "\n",
      "2017 Defect-Mediated CdS Nanobelt Photoluminescence Up-Conversion\n",
      "cited  3 times  scopus ID: 85026872182\n",
      "published in: Journal of Physical Chemistry C\n",
      "\n",
      "2017 Fluorescence intermittency originates from reclustering in two-dimensional organic semiconductors\n",
      "cited  0 times  scopus ID: 85013631673\n",
      "published in: Nature Communications\n",
      "\n",
      "2016 Transforming Layered to Nonlayered Two-Dimensional Materials: Cation Exchange of SnS<inf>2</inf>to Cu<inf>2</inf>SnS<inf>3</inf>\n",
      "cited  4 times  scopus ID: 85006278112\n",
      "published in: ACS Energy Letters\n",
      "\n",
      "2016 Spatially Non-uniform Trap State Densities in Solution-Processed Hybrid Perovskite Thin Films\n",
      "cited  49 times  scopus ID: 84958969844\n",
      "published in: Journal of Physical Chemistry Letters\n",
      "\n",
      "2015 Optical constants and dynamic conductivities of single layer MoS<inf>2</inf>, MoSe<inf>2</inf>, and WSe<inf>2</inf>\n",
      "cited  23 times  scopus ID: 84940434926\n",
      "published in: Applied Physics Letters\n",
      "\n",
      "2015 Heterogeneous Fluorescence Intermittency in Single Layer Reduced Graphene Oxide\n",
      "cited  4 times  scopus ID: 84936760238\n",
      "published in: Nano Letters\n",
      "\n",
      "2015 Spectroscopy and microscopy of graphene oxide and reduced graphene oxide\n",
      "cited  4 times  scopus ID: 84943755022\n",
      "published in: Graphene Oxide: Reduction Recipes, Spectroscopy, and Applications\n",
      "\n",
      "2014 Direct observation of single layer graphene oxide reduction through spatially resolved, single sheet absorption/emission microscopy\n",
      "cited  20 times  scopus ID: 84902246571\n",
      "published in: Nano Letters\n",
      "\n",
      "2013 Direct observation of spatially heterogeneous single-layer graphene oxide reduction kinetics\n",
      "cited  23 times  scopus ID: 84890349944\n",
      "published in: Nano Letters\n"
     ]
    }
   ],
   "source": [
    "for publ in publications:\n",
    "    print('')\n",
    "    print(publ['year'], publ['title'])\n",
    "    print( 'cited ', publ['cited'], 'times',  ' scopus ID:', publ['scopusid'])\n",
    "    print('published in:', publ['journal'])"
   ]
  },
  {
   "cell_type": "code",
   "execution_count": null,
   "metadata": {},
   "outputs": [],
   "source": []
  },
  {
   "cell_type": "markdown",
   "metadata": {},
   "source": [
    "\n",
    "\n",
    "If you need more detailes about a publication *full_result* conatains more information"
   ]
  },
  {
   "cell_type": "code",
   "execution_count": 18,
   "metadata": {},
   "outputs": [
    {
     "data": {
      "text/plain": [
       "(12, list)"
      ]
     },
     "execution_count": 18,
     "metadata": {},
     "output_type": "execute_result"
    }
   ],
   "source": [
    "len(full_result), type(full_result)"
   ]
  },
  {
   "cell_type": "code",
   "execution_count": 19,
   "metadata": {},
   "outputs": [
    {
     "data": {
      "text/plain": [
       "dict_keys(['@_fa', 'link', 'prism:url', 'dc:identifier', 'eid', 'dc:title', 'dc:creator', 'prism:publicationName', 'prism:issn', 'prism:eIssn', 'prism:volume', 'prism:issueIdentifier', 'prism:pageRange', 'prism:coverDate', 'prism:coverDisplayDate', 'prism:doi', 'citedby-count', 'affiliation', 'prism:aggregationType', 'subtype', 'subtypeDescription', 'source-id', 'openaccess', 'openaccessFlag'])"
      ]
     },
     "execution_count": 19,
     "metadata": {},
     "output_type": "execute_result"
    }
   ],
   "source": [
    "full_result[0].keys()"
   ]
  },
  {
   "cell_type": "markdown",
   "metadata": {},
   "source": [
    "#### For every publucation full_result list contains things like issn, doi, type of the journal, etc. \n",
    "#### See full output for one of the publicaitons below"
   ]
  },
  {
   "cell_type": "code",
   "execution_count": 20,
   "metadata": {},
   "outputs": [
    {
     "data": {
      "text/plain": [
       "{'@_fa': 'true',\n",
       " 'link': [{'@_fa': 'true',\n",
       "   '@ref': 'self',\n",
       "   '@href': 'https://api.elsevier.com/content/abstract/scopus_id/84940434926'},\n",
       "  {'@_fa': 'true',\n",
       "   '@ref': 'author-affiliation',\n",
       "   '@href': 'https://api.elsevier.com/content/abstract/scopus_id/84940434926?field=author,affiliation'},\n",
       "  {'@_fa': 'true',\n",
       "   '@ref': 'scopus',\n",
       "   '@href': 'https://www.scopus.com/inward/record.uri?partnerID=HzOxMe3b&scp=84940434926&origin=inward'},\n",
       "  {'@_fa': 'true',\n",
       "   '@ref': 'scopus-citedby',\n",
       "   '@href': 'https://www.scopus.com/inward/citedby.uri?partnerID=HzOxMe3b&scp=84940434926&origin=inward'}],\n",
       " 'prism:url': 'https://api.elsevier.com/content/abstract/scopus_id/84940434926',\n",
       " 'dc:identifier': 'SCOPUS_ID:84940434926',\n",
       " 'eid': '2-s2.0-84940434926',\n",
       " 'dc:title': 'Optical constants and dynamic conductivities of single layer MoS<inf>2</inf>, MoSe<inf>2</inf>, and WSe<inf>2</inf>',\n",
       " 'dc:creator': 'Morozov Y.',\n",
       " 'prism:publicationName': 'Applied Physics Letters',\n",
       " 'prism:issn': '00036951',\n",
       " 'prism:volume': '107',\n",
       " 'prism:issueIdentifier': '8',\n",
       " 'prism:pageRange': None,\n",
       " 'prism:coverDate': '2015-08-24',\n",
       " 'prism:coverDisplayDate': '24 August 2015',\n",
       " 'prism:doi': '10.1063/1.4929700',\n",
       " 'citedby-count': '23',\n",
       " 'affiliation': [{'@_fa': 'true',\n",
       "   'affilname': 'University of Notre Dame',\n",
       "   'affiliation-city': 'Notre Dame',\n",
       "   'affiliation-country': 'United States'},\n",
       "  {'@_fa': 'true',\n",
       "   'affilname': 'Taras Shevchenko National University of Kyiv',\n",
       "   'affiliation-city': 'Kiev',\n",
       "   'affiliation-country': 'Ukraine'}],\n",
       " 'prism:aggregationType': 'Journal',\n",
       " 'subtype': 'ar',\n",
       " 'subtypeDescription': 'Article',\n",
       " 'article-number': '083103',\n",
       " 'source-id': '27030',\n",
       " 'openaccess': '0',\n",
       " 'openaccessFlag': False}"
      ]
     },
     "execution_count": 20,
     "metadata": {},
     "output_type": "execute_result"
    }
   ],
   "source": [
    "full_result[7]"
   ]
  },
  {
   "cell_type": "markdown",
   "metadata": {},
   "source": [
    "### 7. Obtain detailed information about a given publication using Scopus ID"
   ]
  },
  {
   "cell_type": "code",
   "execution_count": 22,
   "metadata": {},
   "outputs": [
    {
     "name": "stdout",
     "output_type": "stream",
     "text": [
      "Publication record obtained successfully\n"
     ]
    }
   ],
   "source": [
    "publication_scopus_id = '84940434926'\n",
    "scp_doc = AbsDoc(scp_id = publication_scopus_id)\n",
    "if scp_doc.read(client):\n",
    "    print(\"Publication record obtained successfully\")\n",
    "    result = scp_doc.data\n",
    "else:\n",
    "    print(\"Something went wrong ... \")\n",
    "    result = ''"
   ]
  },
  {
   "cell_type": "markdown",
   "metadata": {},
   "source": [
    "#### result contains a lot of information about the paper, author list and their affiliations, abstract of the publication, reference list, etc.  \n",
    "below is the abstract of the given paper"
   ]
  },
  {
   "cell_type": "code",
   "execution_count": 23,
   "metadata": {},
   "outputs": [
    {
     "data": {
      "text/plain": [
       "'© 2015 AIP Publishing LLC. The complex optical constants of single layer MoS2, MoSe2, and WSe2 transition metal dichalcogenides (TMDCs) have been measured using concerted frequency-dependent transmittance and reflectance measurements. Absolute absorptivities as well as complex refractive indices and dielectric permittivities have been extracted. Comparisons to associated bulk responses reveal differences due to increased electron-hole interactions in single layer TMDCs. In parallel, corresponding complex optical conductivities (σ) have been determined. For MoS2, extracted σ-values qualitatively agree with recent theoretical estimates. Significant differences exist, though, between experiment and theory regarding the imaginary part of σ. In all cases, the current approach distinguishes itself to other measurements of single layer TMDC optical constants in which it does not rely on Kramers-Kronig transformations of reflectance data.'"
      ]
     },
     "execution_count": 23,
     "metadata": {},
     "output_type": "execute_result"
    }
   ],
   "source": [
    "scp_doc.data['item']['bibrecord']['head']['abstracts']#reference (['head', 'item-info', 'tail'])"
   ]
  },
  {
   "cell_type": "markdown",
   "metadata": {},
   "source": [
    "#### Save information about this publication to json file *publication_record.json*"
   ]
  },
  {
   "cell_type": "code",
   "execution_count": 24,
   "metadata": {},
   "outputs": [],
   "source": [
    "with open('publication_record.json', 'w') as fp:\n",
    "    json.dump(result, fp, indent=4) "
   ]
  }
 ],
 "metadata": {
  "kernelspec": {
   "display_name": "Python 3",
   "language": "python",
   "name": "python3"
  },
  "language_info": {
   "codemirror_mode": {
    "name": "ipython",
    "version": 3
   },
   "file_extension": ".py",
   "mimetype": "text/x-python",
   "name": "python",
   "nbconvert_exporter": "python",
   "pygments_lexer": "ipython3",
   "version": "3.6.5"
  }
 },
 "nbformat": 4,
 "nbformat_minor": 2
}
